{
 "cells": [
  {
   "cell_type": "code",
   "execution_count": 17,
   "id": "997841d4-ef78-4c7f-ac90-f933af1aa2dc",
   "metadata": {
    "scrolled": true
   },
   "outputs": [],
   "source": [
    "from tkinter import *\n",
    "import random\n",
    "from tkinter import messagebox\n",
    "\n",
    "\n",
    "# Импортируем библиотеку с помощью которой будем выполнять запрос\n",
    "import requests \n",
    "\n",
    "# Выполняем запрос с помощью которого мы получим слова\n",
    "first_reply = requests.get('https://raw.githubusercontent.com/danakt/russian-words/master/russian.txt') \n",
    "\n",
    "# Декодируем их, так как используется кодировка \"windows-1251\"\n",
    "russian_words = first_reply.content.decode('cp1251')\n",
    "list_words = russian_words.splitlines()\n",
    "list_words\n",
    "\n",
    "numbers = [int(random.random()*100000) for x in range(30)]\n",
    "words4print = []\n",
    "for i in numbers: words4print.append(list_words[i])\n",
    "root = Tk()\n",
    "root.title(\"DieMonkeytype\")\n",
    "root.geometry(\"650x600\")\n",
    "colors = [\"red\", \"green\", \"blue\", \"yellow\", \"orange\", \"purple\"]\n",
    "time = 5\n",
    "def symbols():\n",
    "    s = text1.get(\"1.0\", \"end\")\n",
    "    s_len = len(s)\n",
    "    l3.config(text= \"Количество введённых символов: {}\".format(s_len))\n",
    "    root.after(50, symbols)\n",
    "\n",
    "def timer():\n",
    "    global time\n",
    "    if time > 0:\n",
    "        time -= 1\n",
    "        l4.config(text= int(time))\n",
    "        root.after(1000, timer)\n",
    "    if not time: \n",
    "        l1.config(text= \"Время вышло!\", fg= \"red\")\n",
    "        return 0\n",
    "        \n",
    "        \n",
    "l1= Label(text = \"Введите указанный текст\", width = 20, font = 'Times 18')\n",
    "l1.place(x = 200, y = 10)\n",
    "l2 = Label(root, text=words4print, wraplength=600) # Устанавливаем максимальную ширину строки в 200 пикселей\n",
    "l2.place(x = 30, y = 50)\n",
    "l3= Label(text = \"Введено символов: \", width = 30, font = 'Times 18')\n",
    "l3.place(x = 75, y = 300)\n",
    "l4= Label(text = int(time), width = 5, font = 'Times 18')\n",
    "l4.place(x = 560, y = 10)\n",
    "\n",
    "text1=Text(root,height=7,width=30,font='Arial 14',wrap=WORD)\n",
    "text1.place(x = 150, y = 140)\n",
    "\n",
    "b1= Button(text = \"Начать игру\", command = timer, width= 12)\n",
    "b1.place(x = 500, y = 250)\n",
    "symbols()\n",
    "\n",
    "\n",
    "root.mainloop()"
   ]
  },
  {
   "cell_type": "code",
   "execution_count": null,
   "id": "c5576542-d9c2-4d7b-bdc3-ea5067421399",
   "metadata": {},
   "outputs": [],
   "source": []
  }
 ],
 "metadata": {
  "kernelspec": {
   "display_name": "Python 3 (ipykernel)",
   "language": "python",
   "name": "python3"
  },
  "language_info": {
   "codemirror_mode": {
    "name": "ipython",
    "version": 3
   },
   "file_extension": ".py",
   "mimetype": "text/x-python",
   "name": "python",
   "nbconvert_exporter": "python",
   "pygments_lexer": "ipython3",
   "version": "3.11.4"
  }
 },
 "nbformat": 4,
 "nbformat_minor": 5
}
