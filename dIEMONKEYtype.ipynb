{
 "cells": [
  {
   "cell_type": "code",
   "execution_count": 6,
   "id": "997841d4-ef78-4c7f-ac90-f933af1aa2dc",
   "metadata": {},
   "outputs": [],
   "source": [
    "from tkinter import *\n",
    "import random\n",
    "from tkinter import messagebox\n",
    "root = Tk()\n",
    "root.title(\"DieMonkeyType\")\n",
    "root.geometry(\"650x600\")\n",
    "colors = [\"red\", \"green\", \"blue\", \"yellow\", \"orange\", \"purple\"]\n",
    "time = 61\n",
    "def symbols():\n",
    "    s = text1.get(\"1.0\", END)\n",
    "    s_len = len(s)\n",
    "    l3.config(text= \"Количество введённых символов: {}\".format(s_len))\n",
    "\n",
    "def timer():\n",
    "    global time\n",
    "    if time > 0:\n",
    "        time -= 1\n",
    "        l4.config(text= int(time))\n",
    "        root.after(1000, timer)\n",
    "        \n",
    "    \n",
    "\n",
    "\n",
    "l1= Label(text = \"Введите указанный текст\", width = 20, font = 'Times 18')\n",
    "l1.place(x = 200, y = 10)\n",
    "l2= Label(text = \"Здесь могла быть ваша реклама\", width = 30, font = 'Times 15')\n",
    "l2.place(x = 50, y = 50)\n",
    "l3= Label(text = \"Количество введённых символов: \", width = 30, font = 'Times 18')\n",
    "l3.place(x = 75, y = 300)\n",
    "l4= Label(text = int(time), width = 5, font = 'Times 18')\n",
    "l4.place(x = 560, y = 10)\n",
    "\n",
    "text1=Text(root,height=7,width=30,font='Arial 14',wrap=WORD).place(x = 150, y = 140)\n",
    "\n",
    "b1= Button(text = \"Начать игру\", command = timer, width= 12)\n",
    "b1.place(x = 500, y = 250)\n",
    "root.mainloop()"
   ]
  },
  {
   "cell_type": "code",
   "execution_count": null,
   "id": "48a09625-8223-4bb2-90c8-066887118bdf",
   "metadata": {},
   "outputs": [],
   "source": []
  }
 ],
 "metadata": {
  "kernelspec": {
   "display_name": "Python 3 (ipykernel)",
   "language": "python",
   "name": "python3"
  },
  "language_info": {
   "codemirror_mode": {
    "name": "ipython",
    "version": 3
   },
   "file_extension": ".py",
   "mimetype": "text/x-python",
   "name": "python",
   "nbconvert_exporter": "python",
   "pygments_lexer": "ipython3",
   "version": "3.12.7"
  }
 },
 "nbformat": 4,
 "nbformat_minor": 5
}
