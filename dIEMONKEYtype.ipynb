{
 "cells": [
  {
   "cell_type": "code",
   "execution_count": 1,
   "id": "997841d4-ef78-4c7f-ac90-f933af1aa2dc",
   "metadata": {},
   "outputs": [],
   "source": [
    "from tkinter import *\n",
    "import random\n",
    "from tkinter import messagebox\n",
    "root = Tk()\n",
    "root.title(\"Maximtype\")\n",
    "root.geometry(\"650x600\")\n",
    "colors = [\"red\", \"green\", \"blue\", \"yellow\", \"orange\", \"purple\"]\n",
    "time = 61\n",
    "def symbols():\n",
    "    s = text1.get(\"1.0\", END)\n",
    "    s_len = len(s)\n",
    "    l3.config(text= \"Количество введённых символов: {}\".format(s_len))\n",
    "\n",
    "def taimer():\n",
    "    global time\n",
    "    if time > 0:\n",
    "        time -= 1\n",
    "        l4.config(text= int(time))\n",
    "        root.after(1000, taimer)\n",
    "        \n",
    "    \n",
    "\n",
    "\n",
    "l1= Label(text = \"Введите указанный текст\", width = 20, font = 'Times 18')\n",
    "l1.place(x = 200, y = 10)\n",
    "l2= Label(text = \"Тут должен быть текст\", width = 20, font = 'Times 15')\n",
    "l2.place(x = 50, y = 50)\n",
    "l3= Label(text = \"Количество введённых символов: \", width = 30, font = 'Times 18')\n",
    "l3.place(x = 75, y = 300)\n",
    "l4= Label(text = int(time), width = 5, font = 'Times 18')\n",
    "l4.place(x = 560, y = 10)\n",
    "\n",
    "text1=Text(root,height=7,width=30,font='Arial 14',wrap=WORD).place(x = 150, y = 140)\n",
    "\n",
    "b1= Button(text = \"Начать игру\", width= 12)\n",
    "b1.place(x = 500, y = 250)\n",
    "taimer()\n",
    "root.mainloop()"
   ]
  },
  {
   "cell_type": "code",
   "execution_count": 1,
   "id": "91f13a01-fe4e-49aa-9797-a2ad60ee63bf",
   "metadata": {},
   "outputs": [
    {
     "ename": "ModuleNotFoundError",
     "evalue": "No module named 'pymorphy2'",
     "output_type": "error",
     "traceback": [
      "\u001b[1;31m---------------------------------------------------------------------------\u001b[0m",
      "\u001b[1;31mModuleNotFoundError\u001b[0m                       Traceback (most recent call last)",
      "Cell \u001b[1;32mIn[1], line 1\u001b[0m\n\u001b[1;32m----> 1\u001b[0m \u001b[38;5;28;01mfrom\u001b[39;00m \u001b[38;5;21;01mpymorphy2\u001b[39;00m \u001b[38;5;28;01mimport\u001b[39;00m MorphAnalyzer\n\u001b[0;32m      3\u001b[0m morph \u001b[38;5;241m=\u001b[39m MorphAnalyzer()\n\u001b[0;32m      4\u001b[0m word \u001b[38;5;241m=\u001b[39m \u001b[38;5;124m\"\u001b[39m\u001b[38;5;124mбегу\u001b[39m\u001b[38;5;124m\"\u001b[39m\n",
      "\u001b[1;31mModuleNotFoundError\u001b[0m: No module named 'pymorphy2'"
     ]
    }
   ],
   "source": []
  },
  {
   "cell_type": "code",
   "execution_count": null,
   "id": "d6a17184-a5ab-486f-9bde-f8e3ba466c89",
   "metadata": {},
   "outputs": [],
   "source": []
  }
 ],
 "metadata": {
  "kernelspec": {
   "display_name": "Python 3 (ipykernel)",
   "language": "python",
   "name": "python3"
  },
  "language_info": {
   "codemirror_mode": {
    "name": "ipython",
    "version": 3
   },
   "file_extension": ".py",
   "mimetype": "text/x-python",
   "name": "python",
   "nbconvert_exporter": "python",
   "pygments_lexer": "ipython3",
   "version": "3.12.4"
  }
 },
 "nbformat": 4,
 "nbformat_minor": 5
}
